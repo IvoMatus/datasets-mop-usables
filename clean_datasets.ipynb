{
 "cells": [
  {
   "cell_type": "markdown",
   "id": "e6a08081",
   "metadata": {},
   "source": [
    "## Separar datasets"
   ]
  },
  {
   "cell_type": "code",
   "execution_count": 1,
   "id": "c0021023",
   "metadata": {},
   "outputs": [],
   "source": [
    "import pandas as pd\n",
    "import numpy as np\n",
    "fn = './datasets/Altura_y_Caudal_Instantaneo_Diario_19_05_2022_13_43.xls'\n",
    "fn2 = './datasets/Altura_y_Caudal Instantáneo_(Diario)2015-2017.xls'\n",
    "fn3= './datasets/Altura_y_Caudal_Instantáneo_(Diario)2019-2021.xls'\n",
    "fn4 = './datasets/Altura_y_Caudal_Instantáneo(Diario)2017-2019.xls'"
   ]
  },
  {
   "cell_type": "code",
   "execution_count": 2,
   "id": "550976e8",
   "metadata": {},
   "outputs": [],
   "source": [
    "COLUMNAS = ['DIA', 'HORA', 'ALTURA (m)', 'CAUDAL (m3/seg)', 'I', 'O']\n",
    "MESES = [\n",
    "    \"ENERO\",\n",
    "    \"FEBRERO\",\n",
    "    \"MARZO\",\n",
    "    \"ABRIL\",\n",
    "    \"MAYO\",\n",
    "    \"JUNIO\",\n",
    "    \"JULIO\",\n",
    "    \"AGOSTO\",\n",
    "    \"SEPTIEMBRE\",\n",
    "    \"OCTUBRE\",\n",
    "    \"NOVIEMBRE\",\n",
    "    \"DICIEMBRE\"\n",
    "]\n",
    "\n",
    "files = [fn,fn2,fn3,fn4]"
   ]
  },
  {
   "cell_type": "code",
   "execution_count": 3,
   "id": "6e23b546",
   "metadata": {},
   "outputs": [],
   "source": [
    "def unir_columnas_repetidas(df,index):\n",
    "    df_1 = df.iloc[:,:6]\n",
    "    df_2 = df.iloc[:,6:12]\n",
    "    df_3 = df.iloc[:,12:18]\n",
    "    fecha = df.iloc[:,18:]\n",
    "    df_1 = pd.concat([df_1,fecha],axis=1)\n",
    "    df_2.columns = COLUMNAS\n",
    "    df_2 = pd.concat([df_2,fecha],axis=1)\n",
    "    df_3.columns = COLUMNAS\n",
    "    df_3 = pd.concat([df_3,fecha],axis=1)\n",
    "    return df_1,df_2,df_3"
   ]
  },
  {
   "cell_type": "code",
   "execution_count": 4,
   "id": "7b5df0bf",
   "metadata": {
    "scrolled": false
   },
   "outputs": [
    {
     "name": "stdout",
     "output_type": "stream",
     "text": [
      "0\n",
      "creado RIO ACONCAGUA EN CHACABUQUITO\n",
      "1\n",
      "creado RIO ACONCAGUA EN SAN FELIPE\n",
      "0\n",
      "creado RIO ACONCAGUA EN CHACABUQUITO\n",
      "1\n",
      "creado RIO ACONCAGUA EN SAN FELIPE\n",
      "0\n",
      "creado RIO ACONCAGUA EN CHACABUQUITO\n",
      "1\n",
      "creado RIO ACONCAGUA EN SAN FELIPE\n",
      "0\n",
      "creado RIO ACONCAGUA EN CHACABUQUITO\n",
      "1\n",
      "creado RIO ACONCAGUA EN SAN FELIPE\n"
     ]
    }
   ],
   "source": [
    "for excel in files:\n",
    "    xl = pd.ExcelFile(excel)\n",
    "    for index,sheet in enumerate(range(len(xl.sheet_names))):\n",
    "        print(index)\n",
    "\n",
    "        df11 = xl.parse(0, skiprows=10,).dropna(axis=1, how='all') # Posee primer año y mes\n",
    "        df = xl.parse(index, skiprows=11,).dropna(axis=1, how='all') # Tablas\n",
    "        MES = int(df11.columns[2].split(\"/\")[0])\n",
    "        AÑO = int(df11.columns[2].split(\"/\")[1])\n",
    "\n",
    "        del df11\n",
    "\n",
    "        sep = df[df.isna().any(axis=1)]\n",
    "        sep = sep[(sep['DIA']) == 'MES:']\n",
    "        datasets = [[] for _ in range(len(sep)+1)]\n",
    "        j=0\n",
    "\n",
    "        for i,row in df.iterrows():\n",
    "            if (row['DIA'] == 'MES:'):\n",
    "                if(j==len(sep)+1):\n",
    "                    break\n",
    "                j+=1\n",
    "                mes = int(row['ALTURA (m)'].split(\"/\")[0])\n",
    "                ano = int(row['ALTURA (m)'].split(\"/\")[1])\n",
    "                continue\n",
    "            else:\n",
    "                if((row['DIA'] == 'DIA') or row['DIA']== 'Indicadores'):\n",
    "                    continue\n",
    "                else:\n",
    "                    try:\n",
    "                        row['MES'] = mes\n",
    "                        row['AÑO'] = ano\n",
    "                        datasets[j].append(row)\n",
    "                    except NameError:\n",
    "                        row['MES'] = MES\n",
    "                        row['AÑO'] = AÑO\n",
    "                        datasets[j].append(row)\n",
    "\n",
    "        for index2,dataset in enumerate(datasets):\n",
    "            df = pd.DataFrame(dataset)\n",
    "            df_1,df_2,df_3 = unir_columnas_repetidas(df,index)\n",
    "            if index2==0:\n",
    "                dfx = pd.concat([df_1,df_2,df_3],axis=0)\n",
    "            else:\n",
    "                dfx = pd.concat([dfx,df_1,df_2,df_3],axis=0)\n",
    "\n",
    "        #Ordenamos por Hora,mes año, dia\n",
    "        dfx = dfx.sort_values(['AÑO','MES','DIA','HORA'],ascending=[True,True,True,True])\n",
    "\n",
    "#         #Asignamos MES como palabra\n",
    "        for position,row in dfx.iterrows():\n",
    "            dfx.at[position,'MES'] = MESES[row['MES']-1]\n",
    "\n",
    "\n",
    "        #Guardado\n",
    "        dfx.to_excel(f\"./processed_datasets/{xl.sheet_names[index]}_{AÑO}-{ano}.xlsx\",index = False)\n",
    "        print(\"creado\",xl.sheet_names[index])\n",
    "        del mes\n",
    "        del ano\n",
    "        del MES\n",
    "        del AÑO\n",
    "print(\"fin\")"
   ]
  }
 ],
 "metadata": {
  "kernelspec": {
   "display_name": "Python 3",
   "language": "python",
   "name": "python3"
  },
  "language_info": {
   "codemirror_mode": {
    "name": "ipython",
    "version": 3
   },
   "file_extension": ".py",
   "mimetype": "text/x-python",
   "name": "python",
   "nbconvert_exporter": "python",
   "pygments_lexer": "ipython3",
   "version": "3.6.12"
  }
 },
 "nbformat": 4,
 "nbformat_minor": 5
}
